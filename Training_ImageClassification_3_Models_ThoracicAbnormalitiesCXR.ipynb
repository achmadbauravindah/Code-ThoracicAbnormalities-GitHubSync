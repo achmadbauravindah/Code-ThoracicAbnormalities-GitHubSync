{
 "cells": [
  {
   "cell_type": "markdown",
   "metadata": {
    "id": "aV_ApICAFyAS"
   },
   "source": [
    "The 3 Models are:\n",
    "- MobileNet\n",
    "- ShuffleNet\n",
    "- EfficientNet"
   ]
  },
  {
   "cell_type": "markdown",
   "metadata": {
    "id": "Zz3vyoQhx6bi"
   },
   "source": [
    "# Device Information\n"
   ]
  },
  {
   "cell_type": "code",
   "execution_count": 18,
   "metadata": {
    "colab": {
     "base_uri": "https://localhost:8080/"
    },
    "id": "6vGAe1Nyx6bk",
    "outputId": "c482f6af-0328-4377-d2f8-647af775e82f"
   },
   "outputs": [
    {
     "name": "stdout",
     "output_type": "stream",
     "text": [
      "KNAME TYPE   SIZE MODEL\n",
      "sda   disk 388.4M Virtual Disk\n",
      "sdb   disk    16G Virtual Disk\n",
      "sdc   disk     1T Virtual Disk\n"
     ]
    }
   ],
   "source": [
    "! lsblk -io KNAME,TYPE,SIZE,MODEL #disk"
   ]
  },
  {
   "cell_type": "code",
   "execution_count": 19,
   "metadata": {
    "colab": {
     "base_uri": "https://localhost:8080/"
    },
    "id": "apX9TCZVx6bm",
    "outputId": "c32893f5-c9c5-4842-ec55-3bbaaaa2e6a4"
   },
   "outputs": [
    {
     "name": "stdout",
     "output_type": "stream",
     "text": [
      "achmadbauravindah           \n",
      "    description: Computer\n",
      "    width: 64 bits\n",
      "    capabilities: smp vsyscall32\n",
      "  *-core\n",
      "       description: Motherboard\n",
      "       physical id: 0\n",
      "     *-memory\n",
      "          description: System memory\n",
      "          physical id: 1\n",
      "          size: 64GiB\n",
      "     *-cpu\n",
      "          product: 12th Gen Intel(R) Core(TM) i9-12900\n",
      "          vendor: Intel Corp.\n",
      "          physical id: 2\n",
      "          bus info: cpu@0\n",
      "          version: 6.151.2\n",
      "          width: 64 bits\n",
      "          capabilities: fpu fpu_exception wp vme de pse tsc msr pae mce cx8 apic sep mtrr pge mca cmov pat pse36 clflush mmx fxsr sse sse2 ss ht syscall nx pdpe1gb rdtscp x86-64 constant_tsc rep_good nopl xtopology tsc_reliable nonstop_tsc cpuid pni pclmulqdq vmx ssse3 fma cx16 pcid sse4_1 sse4_2 x2apic movbe popcnt tsc_deadline_timer aes xsave avx f16c rdrand hypervisor lahf_lm abm 3dnowprefetch invpcid_single ssbd ibrs ibpb stibp ibrs_enhanced tpr_shadow vnmi ept vpid ept_ad fsgsbase tsc_adjust bmi1 avx2 smep bmi2 erms invpcid rdseed adx smap clflushopt clwb sha_ni xsaveopt xsavec xgetbv1 xsaves avx_vnni umip waitpkg gfni vaes vpclmulqdq rdpid movdiri movdir64b fsrm md_clear serialize flush_l1d arch_capabilities\n",
      "          configuration: microcode=4294967295\n",
      "     *-display\n",
      "          description: 3D controller\n",
      "          product: Basic Render Driver\n",
      "          vendor: Microsoft Corporation\n",
      "          physical id: 3\n",
      "          bus info: pci@36e1:00:00.0\n",
      "          version: 00\n",
      "          width: 32 bits\n",
      "          clock: 33MHz\n",
      "          capabilities: bus_master cap_list\n",
      "          configuration: driver=dxgkrnl latency=0\n",
      "          resources: irq:0\n",
      "     *-scsi:0\n",
      "          description: SCSI storage controller\n",
      "          product: Virtio 1.0 console\n",
      "          vendor: Red Hat, Inc.\n",
      "          physical id: 4\n",
      "          bus info: pci@5582:00:00.0\n",
      "          version: 01\n",
      "          width: 64 bits\n",
      "          clock: 33MHz\n",
      "          capabilities: scsi msix bus_master cap_list\n",
      "          configuration: driver=virtio-pci latency=64\n",
      "          resources: iomemory:90-8f iomemory:90-8f iomemory:90-8f irq:0 memory:9ffe00000-9ffe00fff memory:9ffe01000-9ffe01fff memory:9ffe02000-9ffe02fff\n",
      "        *-virtio0 UNCLAIMED\n",
      "             description: Virtual I/O device\n",
      "             physical id: 0\n",
      "             bus info: virtio@0\n",
      "             configuration: driver=virtio_console\n",
      "     *-generic\n",
      "          description: System peripheral\n",
      "          product: Virtio file system\n",
      "          vendor: Red Hat, Inc.\n",
      "          physical id: 0\n",
      "          bus info: pci@6561:00:00.0\n",
      "          version: 01\n",
      "          width: 64 bits\n",
      "          clock: 33MHz\n",
      "          capabilities: msix bus_master cap_list\n",
      "          configuration: driver=virtio-pci latency=64\n",
      "          resources: iomemory:e0-df iomemory:e0-df iomemory:c0-bf irq:0 memory:e00000000-e00000fff memory:e00001000-e00001fff memory:c00000000-dffffffff\n",
      "        *-virtio1 UNCLAIMED\n",
      "             description: Virtual I/O device\n",
      "             physical id: 0\n",
      "             bus info: virtio@1\n",
      "             configuration: driver=virtiofs\n",
      "     *-pnp00:00\n",
      "          product: PnP device PNP0b00\n",
      "          physical id: 5\n",
      "          capabilities: pnp\n",
      "          configuration: driver=rtc_cmos\n",
      "     *-scsi:1\n",
      "          physical id: 6\n",
      "          logical name: scsi0\n",
      "        *-disk:0\n",
      "             description: SCSI Disk\n",
      "             product: Virtual Disk\n",
      "             vendor: Linux\n",
      "             physical id: 0.0.0\n",
      "             bus info: scsi@0:0.0.0\n",
      "             logical name: /dev/sda\n",
      "             version: 1.0\n",
      "             size: 388MiB\n",
      "             capabilities: extended_attributes large_files huge_files extents ext2 initialized\n",
      "             configuration: ansiversion=5 filesystem=ext2 logicalsectorsize=512 sectorsize=512 state=clean\n",
      "        *-disk:1\n",
      "             description: Linux swap volume\n",
      "             product: Virtual Disk\n",
      "             vendor: Msft\n",
      "             physical id: 0.0.1\n",
      "             bus info: scsi@0:0.0.1\n",
      "             logical name: /dev/sdb\n",
      "             version: 1\n",
      "             serial: 7d072801-11ee-476e-aea7-158e9c700798\n",
      "             size: 16GiB\n",
      "             capacity: 16GiB\n",
      "             capabilities: swap initialized\n",
      "             configuration: ansiversion=5 filesystem=swap logicalsectorsize=512 pagesize=4096 sectorsize=4096\n",
      "        *-disk:2\n",
      "             description: EXT4 volume\n",
      "             product: Virtual Disk\n",
      "             vendor: Linux\n",
      "             physical id: 0.0.2\n",
      "             bus info: scsi@0:0.0.2\n",
      "             logical name: /dev/sdc\n",
      "             logical name: /\n",
      "             logical name: /mnt/wslg/distro\n",
      "             version: 1.0\n",
      "             serial: ab3a7251-1e74-4188-93f0-c7172618a129\n",
      "             size: 1TiB\n",
      "             capabilities: journaled extended_attributes large_files huge_files dir_nlink recover 64bit extents ext4 ext2 initialized\n",
      "             configuration: ansiversion=5 created=2024-10-04 16:49:54 filesystem=ext4 lastmountpoint=/distro logicalsectorsize=512 modified=2024-12-11 15:58:13 mount.fstype=ext4 mount.options=ro,relatime,discard,errors=remount-ro,data=ordered mounted=2024-12-11 15:58:13 sectorsize=4096 state=mounted\n",
      "  *-usbhost:0\n",
      "       product: USB/IP Virtual Host Controller\n",
      "       vendor: Linux 5.15.167.4-microsoft-standard-WSL2 vhci_hcd\n",
      "       physical id: 1\n",
      "       bus info: usb@1\n",
      "       logical name: usb1\n",
      "       version: 5.15\n",
      "       capabilities: usb-2.00\n",
      "       configuration: driver=hub slots=8 speed=480Mbit/s\n",
      "  *-usbhost:1\n",
      "       product: USB/IP Virtual Host Controller\n",
      "       vendor: Linux 5.15.167.4-microsoft-standard-WSL2 vhci_hcd\n",
      "       physical id: 2\n",
      "       bus info: usb@2\n",
      "       logical name: usb2\n",
      "       version: 5.15\n",
      "       capabilities: usb-3.00\n",
      "       configuration: driver=hub slots=8 speed=5000Mbit/s\n",
      "  *-network\n",
      "       description: Ethernet interface\n",
      "       physical id: 3\n",
      "       logical name: eth0\n",
      "       serial: 00:15:5d:bd:c2:c8\n",
      "       size: 10Gbit/s\n",
      "       capabilities: ethernet physical\n",
      "       configuration: autonegotiation=off broadcast=yes driver=hv_netvsc driverversion=5.15.167.4-microsoft-standard-W duplex=full firmware=N/A ip=172.20.66.36 link=yes multicast=yes speed=10Gbit/s\n"
     ]
    }
   ],
   "source": [
    "_ = ! apt install lshw #CPU\n",
    "! lshw"
   ]
  },
  {
   "cell_type": "code",
   "execution_count": 20,
   "metadata": {
    "colab": {
     "base_uri": "https://localhost:8080/"
    },
    "id": "Czsv_Erhx6bm",
    "outputId": "3d2767aa-c658-4972-8b88-345dad285bbd"
   },
   "outputs": [
    {
     "name": "stdout",
     "output_type": "stream",
     "text": [
      "/bin/bash: line 1: nvidia-smi: command not found\n"
     ]
    }
   ],
   "source": [
    "gpu_info = !nvidia-smi\n",
    "gpu_info = '\\n'.join(gpu_info)\n",
    "if gpu_info.find('failed') >= 0:\n",
    "  print('Not connected to a GPU')\n",
    "else:\n",
    "  print(gpu_info)"
   ]
  },
  {
   "cell_type": "markdown",
   "metadata": {
    "id": "bKSwQJ9Hx6bm"
   },
   "source": [
    "# Welcome to Thoracic Abnormalities Detection with Mobile Model\n"
   ]
  },
  {
   "cell_type": "markdown",
   "metadata": {
    "id": "Us0ri3lDx6bm"
   },
   "source": [
    "Dataset: Online Dataset\n",
    "<br>\n",
    "<br>\n",
    "Dataset Reference: https://vindr.ai/datasets/cxr"
   ]
  },
  {
   "cell_type": "markdown",
   "metadata": {
    "id": "zaRvhRTLx6bn"
   },
   "source": [
    "### Connect Google Drive"
   ]
  },
  {
   "cell_type": "code",
   "execution_count": 21,
   "metadata": {
    "colab": {
     "base_uri": "https://localhost:8080/"
    },
    "id": "WDo5AWK5x6bn",
    "outputId": "c1e3fd7d-7f8b-4396-a406-b8794c565769"
   },
   "outputs": [],
   "source": [
    "# from google.colab import drive\n",
    "# drive.mount('/content/drive')"
   ]
  },
  {
   "cell_type": "markdown",
   "metadata": {
    "id": "GhNybNN8x6bn"
   },
   "source": [
    "### Import All Requirements Library"
   ]
  },
  {
   "cell_type": "code",
   "execution_count": 22,
   "metadata": {
    "id": "n5r6dXC-b3sf"
   },
   "outputs": [],
   "source": [
    "# Full Tensorflow\n",
    "import tensorflow as tf\n",
    "from tensorflow.keras.layers import Input, Conv2D, Concatenate, Dropout, Conv2DTranspose, MaxPooling2D, UpSampling2D, BatchNormalization, Activation, SeparableConv2D, Add, GlobalAveragePooling2D, Dense, Flatten, AveragePooling2D, Lambda, Rescaling\n",
    "from tensorflow import keras\n",
    "from tensorflow.keras.utils import plot_model\n",
    "from tensorflow.keras.callbacks import CSVLogger, ModelCheckpoint\n",
    "from tensorflow.keras import backend as K\n",
    "from tensorflow.keras.preprocessing.image import load_img, array_to_img, img_to_array\n",
    "from tensorflow.keras import Model\n",
    "from tensorflow.keras import metrics\n",
    "from tensorflow.keras.callbacks import Callback\n",
    "\n",
    "# MISC\n",
    "from datetime import datetime\n",
    "import matplotlib.pyplot as plt\n",
    "from tqdm import tqdm\n",
    "import numpy as np\n",
    "import pandas as pd\n",
    "# import gdown\n",
    "from datetime import datetime\n",
    "import os\n",
    "import glob"
   ]
  },
  {
   "cell_type": "code",
   "execution_count": 23,
   "metadata": {
    "id": "PmTVTz_5x6bn"
   },
   "outputs": [],
   "source": [
    "# Install Writer Excel (Untuk dokumentasi hasil pelatihan)\n",
    "_ = ! pip install xlsxwriter"
   ]
  },
  {
   "cell_type": "markdown",
   "metadata": {
    "id": "Ad9zku42x6bn"
   },
   "source": [
    "### Set Dataset Path"
   ]
  },
  {
   "cell_type": "code",
   "execution_count": 24,
   "metadata": {
    "id": "vm1MNCCqx6bo"
   },
   "outputs": [],
   "source": [
    "# Drive\n",
    "EXCEL_FILENAME = \"Split_NIH_ThoracicAbnotmalities_Dataset.xlsx\""
   ]
  },
  {
   "cell_type": "code",
   "execution_count": 25,
   "metadata": {
    "colab": {
     "base_uri": "https://localhost:8080/"
    },
    "id": "IjRtUW2Cfv5f",
    "outputId": "207682e5-03cf-41b6-fa1d-85aa9dd2552a"
   },
   "outputs": [],
   "source": [
    "# # Download Dataset in zip, this happen because more efficient to load npy npy images\n",
    "# def download_dataset(id_url):\n",
    "#     # Download Folder from Another Account Shared Folder\n",
    "#     url = \"https://drive.google.com/uc?id=\" + id_url\n",
    "#     # file_output = \"Rice Leafs Dataset (Preprocessed).zip\"\n",
    "#     file_output = \"NIH Thoracic Dataset (Filtered).zip\"\n",
    "#     gdown.download(url, file_output, quiet=False)\n",
    "\n",
    "#     # _ = ! unzip \"Rice Leafs Dataset (Preprocessed).zip\" # unzip if data zipped\n",
    "#     _ = ! unzip \"NIH Thoracic Dataset (Filtered).zip\" # unzip if data zipped\n",
    "\n",
    "# id_url = \"1sAwTqnYk92MWnkWvYGJsPetIvfNPH_E-\"\n",
    "# download_dataset(id_url)"
   ]
  },
  {
   "cell_type": "markdown",
   "metadata": {
    "id": "CxV2tr1ogDiq"
   },
   "source": [
    "### Initiate Labels (Abnormalities)"
   ]
  },
  {
   "cell_type": "code",
   "execution_count": 26,
   "metadata": {
    "colab": {
     "base_uri": "https://localhost:8080/"
    },
    "id": "Ubdf1zRMgH_Q",
    "outputId": "73348745-96ef-4e95-b2f9-ad76a8666f15"
   },
   "outputs": [
    {
     "data": {
      "text/plain": [
       "Index(['atelectasis', 'cardiomegaly', 'effusion', 'pneumothorax',\n",
       "       'nodule/mass'],\n",
       "      dtype='object')"
      ]
     },
     "execution_count": 26,
     "metadata": {},
     "output_type": "execute_result"
    }
   ],
   "source": [
    "meta_data_df = pd.read_excel(EXCEL_FILENAME)\n",
    "selected_labels = meta_data_df.columns[2:]\n",
    "selected_labels"
   ]
  },
  {
   "cell_type": "markdown",
   "metadata": {
    "id": "-rPLIcttx6bo"
   },
   "source": [
    "### Show 1 Sample Image"
   ]
  },
  {
   "cell_type": "code",
   "execution_count": 27,
   "metadata": {
    "colab": {
     "base_uri": "https://localhost:8080/",
     "height": 488
    },
    "id": "QzR8A171x6bo",
    "outputId": "4a3a2fbb-5987-4400-b507-e9e758011a52"
   },
   "outputs": [
    {
     "name": "stdout",
     "output_type": "stream",
     "text": [
      "Sample Image\n",
      "Images Path: ../nih_chest_xrays/images_009/images/00019289_000.png\n",
      "LABEL: ['cardiomegaly', 'effusion']\n"
     ]
    },
    {
     "data": {
      "image/png": "[encoded data removed]",
      "text/plain": [
       "<Figure size 640x480 with 1 Axes>"
      ]
     },
     "metadata": {},
     "output_type": "display_data"
    }
   ],
   "source": [
    "root_directory = \"../nih_chest_xrays\" # If you in Google Colab,  change the root directory\n",
    "# root_directory = \"data\n",
    "image_name = meta_data_df['Image Index'][300]\n",
    "sample_image = glob.glob(f\"{root_directory}/**/{image_name}\", recursive=True)[0]\n",
    "# Show label\n",
    "row = meta_data_df.iloc[300, 2:]\n",
    "labels = row[row == 1].index.tolist()\n",
    "\n",
    "print(\"Sample Image\")\n",
    "print(\"Images Path: {}\".format(sample_image))\n",
    "fig, axes = plt.subplots(1, 1)\n",
    "_ = axes.imshow(img_to_array(load_img(sample_image, target_size=(224, 224), color_mode='grayscale')).astype('uint8'))\n",
    "print(\"LABEL:\", labels)"
   ]
  },
  {
   "cell_type": "markdown",
   "metadata": {
    "id": "avsdJm63Zhfb"
   },
   "source": [
    "# MobileNet Model\n"
   ]
  },
  {
   "cell_type": "code",
   "execution_count": 28,
   "metadata": {
    "id": "1lGqM1kGYhnH"
   },
   "outputs": [],
   "source": [
    "class MobileNet_Model(Model):\n",
    "    def __init__(self):\n",
    "        pass\n",
    "\n",
    "    def custom_net_layers(self, inputs):\n",
    "        custom_net_model = tf.keras.applications.ResNet50(\n",
    "                                                        include_top=False,\n",
    "                                                        weights='imagenet',\n",
    "                                                        input_tensor=inputs,\n",
    "                                                        input_shape=(224, 224, 3),\n",
    "                                                        pooling='max')\n",
    "        custom_layers = custom_net_model.output\n",
    "        return custom_layers\n",
    "\n",
    "\n",
    "\n",
    "    def call(self, inputs):\n",
    "        # MobileNet Layers\n",
    "        custom_net_layers = self.custom_net_layers(inputs)\n",
    "\n",
    "        # FCL Classifier\n",
    "        outputs = Dense(5, activation='sigmoid')(custom_net_layers)\n",
    "        return outputs\n",
    "\n",
    "def buildModelMobileNet():\n",
    "    global MobileNet_Model\n",
    "    # MODEL BUILDING\n",
    "    input_shape = (224, 224, 3)\n",
    "    input_layer = Input(shape=input_shape, name='input_layer')\n",
    "    build_model = MobileNet_Model()\n",
    "    output_layer = build_model.call(input_layer)\n",
    "\n",
    "    # Final Model\n",
    "    model = tf.keras.Model(inputs=[input_layer], outputs=[output_layer])\n",
    "    learning_rate = 0.0001\n",
    "    optimizer = keras.optimizers.Adam(learning_rate=learning_rate)\n",
    "\n",
    "    # Compile Model\n",
    "    model.compile(optimizer=optimizer, loss='binary_crossentropy', metrics=['accuracy'])\n",
    "    return model"
   ]
  },
  {
   "cell_type": "markdown",
   "metadata": {
    "id": "Osea_wxkZxhA"
   },
   "source": [
    "# ShuffleNet Models, I will try xception first"
   ]
  },
  {
   "cell_type": "code",
   "execution_count": 29,
   "metadata": {
    "id": "HcVtX1hGZxhA"
   },
   "outputs": [],
   "source": [
    "class Xception_Model(Model):\n",
    "    def __init__(self):\n",
    "        pass\n",
    "\n",
    "    def custom_net_layers(self, inputs):\n",
    "        custom_net_model = tf.keras.applications.Xception(\n",
    "                                                        include_top=False,\n",
    "                                                        weights=None,\n",
    "                                                        input_tensor=inputs,\n",
    "                                                        input_shape=(224, 224, 3),\n",
    "                                                        pooling='avg')\n",
    "        custom_layers = custom_net_model.output\n",
    "        return custom_layers\n",
    "\n",
    "\n",
    "\n",
    "    def call(self, inputs):\n",
    "        # Xception Layers\n",
    "        custom_net_layers = self.custom_net_layers(inputs)\n",
    "\n",
    "        # FCL Classifier\n",
    "        outputs = Dense(5, activation='sigmoid')(custom_net_layers)\n",
    "        return outputs\n",
    "\n",
    "def buildModelXception():\n",
    "    global Xception_Model\n",
    "    # MODEL BUILDING\n",
    "    input_shape = (224, 224, 3)\n",
    "    input_layer = Input(shape=input_shape, name='input_layer')\n",
    "    build_model = Xception_Model()\n",
    "    output_layer = build_model.call(input_layer)\n",
    "\n",
    "    # Final Model\n",
    "    model = tf.keras.Model(inputs=[input_layer], outputs=[output_layer])\n",
    "    learning_rate = 0.001\n",
    "    optimizer = keras.optimizers.Adam(learning_rate=learning_rate)\n",
    "\n",
    "    # Compile Model\n",
    "    model.compile(optimizer=optimizer, loss='binary_crossentropy', metrics=['accuracy'])\n",
    "    return model"
   ]
  },
  {
   "cell_type": "markdown",
   "metadata": {
    "id": "_EOuByQ8Zzlz"
   },
   "source": [
    "# EfficientNet Model\n"
   ]
  },
  {
   "cell_type": "code",
   "execution_count": 30,
   "metadata": {
    "id": "ANgXWbVqZzl0"
   },
   "outputs": [],
   "source": [
    "# class EfficientNetB0_Model(Model):\n",
    "#     def __init__(self):\n",
    "#         pass\n",
    "\n",
    "#     def custom_net_layers(self, inputs):\n",
    "#         custom_net_model = tf.keras.applications.EfficientNetB0(\n",
    "#                                                         include_top=False,\n",
    "#                                                         weights='imagenet',\n",
    "#                                                         input_tensor=inputs,\n",
    "#                                                         input_shape=(224, 224, 3),\n",
    "#                                                         pooling='avg',\n",
    "#                                                         classes=3)\n",
    "#         custom_layers = custom_net_model.output\n",
    "#         return custom_layers\n",
    "\n",
    "\n",
    "\n",
    "#     def call(self, inputs):\n",
    "#         # EfficientNetB0 Layers\n",
    "#         custom_net_layers = self.custom_net_layers(inputs)\n",
    "\n",
    "#         # FCL Classifier\n",
    "#         outputs = Dense(3, activation='softmax')(custom_net_layers)\n",
    "#         return outputs\n",
    "\n",
    "# def buildModelEfficientNetB0():\n",
    "#     global EfficientNetB0_Model\n",
    "#     # MODEL BUILDING\n",
    "#     input_shape = (224, 224, 3)\n",
    "#     input_layer = Input(shape=input_shape, name='input_layer')\n",
    "#     build_model = EfficientNetB0_Model()\n",
    "#     output_layer = build_model.call(input_layer)\n",
    "\n",
    "#     # Final Model\n",
    "#     model = tf.keras.Model(inputs=[input_layer], outputs=[output_layer])\n",
    "#     learning_rate = 0.001\n",
    "#     optimizer = keras.optimizers.Adam(learning_rate=learning_rate)\n",
    "\n",
    "#     # Compile Model\n",
    "#     model.compile(optimizer=optimizer, loss='categorical_crossentropy', metrics=['accuracy'])\n",
    "#     return model"
   ]
  },
  {
   "cell_type": "markdown",
   "metadata": {
    "id": "m1NPec8gIJFu"
   },
   "source": [
    "### Get Images Array from Filepath in Excel"
   ]
  },
  {
   "cell_type": "code",
   "execution_count": 31,
   "metadata": {
    "id": "Cymz24lMIJFv"
   },
   "outputs": [],
   "source": [
    "import os\n",
    "import numpy as np\n",
    "import pandas as pd\n",
    "from tqdm import tqdm\n",
    "from concurrent.futures import ThreadPoolExecutor\n",
    "from tensorflow.keras.preprocessing.image import load_img, img_to_array\n",
    "\n",
    "def get_file_path_map(root_directory):\n",
    "    \"\"\"\n",
    "    Pre-index all file paths in the root directory for faster lookups.\n",
    "    \"\"\"\n",
    "    file_map = {}\n",
    "    for root, _, files in os.walk(root_directory):\n",
    "        for file in files:\n",
    "            file_map[file] = os.path.join(root, file)\n",
    "    return file_map\n",
    "\n",
    "def load_and_process_image(image_path):\n",
    "    \"\"\"\n",
    "    Load and process a single image given its path.\n",
    "    \"\"\"\n",
    "    try:\n",
    "        image_arr = img_to_array(load_img(image_path, target_size=(224, 224), color_mode='rgb')) / 255.0\n",
    "        return image_arr\n",
    "    except Exception as e:\n",
    "        print(f\"Error loading image {image_path}: {e}\")\n",
    "        return None\n",
    "\n",
    "def getArrFromExcel(sheet_name):\n",
    "    # Get Labels\n",
    "    meta_data_df = pd.read_excel(EXCEL_FILENAME, sheet_name=sheet_name)\n",
    "    image_names = meta_data_df['Image Index']\n",
    "    labels = meta_data_df.iloc[:, 2:]\n",
    "\n",
    "    # Build a file path map for faster lookups\n",
    "    root_directory = \"../nih_chest_xrays\" # If you in Google Colab,  change the root directory\n",
    "    file_path_map = get_file_path_map(root_directory)\n",
    "\n",
    "    # Prepare to store image arrays\n",
    "    images_arr = []\n",
    "\n",
    "    # Use ThreadPoolExecutor for parallel image loading\n",
    "    with ThreadPoolExecutor() as executor:\n",
    "        future_to_image = {executor.submit(load_and_process_image, file_path_map[image_name]): image_name\n",
    "                           for image_name in image_names if image_name in file_path_map}\n",
    "\n",
    "        for future in tqdm(future_to_image, total=len(future_to_image), desc=\"Processing images\"):\n",
    "            result = future.result()\n",
    "            if result is not None:\n",
    "                images_arr.append(result)\n",
    "\n",
    "    return np.array(images_arr), labels"
   ]
  },
  {
   "cell_type": "code",
   "execution_count": 32,
   "metadata": {
    "id": "1y0jdpSZx6br"
   },
   "outputs": [],
   "source": [
    "# # Example\n",
    "# train_sheet_name_per_fold = \"fold_1_val\"\n",
    "# train_images_arr, labels = getArrFromExcel(train_sheet_name_per_fold)\n",
    "# train_images_arr.shape"
   ]
  },
  {
   "cell_type": "markdown",
   "metadata": {
    "id": "qobLBHJMx6bs"
   },
   "source": [
    "### Model Training with K-Fold"
   ]
  },
  {
   "cell_type": "markdown",
   "metadata": {
    "id": "DBK4sWKcmSTb"
   },
   "source": [
    "# ---MobileNet Training---"
   ]
  },
  {
   "cell_type": "code",
   "execution_count": 33,
   "metadata": {
    "colab": {
     "base_uri": "https://localhost:8080/",
     "height": 1000
    },
    "id": "QDrqUGyoyUVd",
    "outputId": "72bee917-c0e1-4027-8ef1-e8f65b988af8"
   },
   "outputs": [],
   "source": [
    "# model = buildModelMobileNet()\n",
    "# model.summary()"
   ]
  },
  {
   "cell_type": "code",
   "execution_count": null,
   "metadata": {
    "colab": {
     "base_uri": "https://localhost:8080/"
    },
    "id": "WcsAXaaix6bs",
    "outputId": "24e3141a-1dc7-46ce-9d03-c7f43210973c"
   },
   "outputs": [
    {
     "name": "stdout",
     "output_type": "stream",
     "text": [
      "##################### FOLD - 1 #####################\n"
     ]
    },
    {
     "name": "stderr",
     "output_type": "stream",
     "text": [
      "Processing images: 100%|██████████| 7360/7360 [00:13<00:00, 559.31it/s]\n",
      "Processing images: 100%|██████████| 1840/1840 [00:03<00:00, 612.08it/s]\n"
     ]
    }
   ],
   "source": [
    "n_sheets_excel = len(pd.ExcelFile(EXCEL_FILENAME).sheet_names)\n",
    "n_k_fold = int((n_sheets_excel - 1) / 2)\n",
    "\n",
    "# Drive Path\n",
    "# base_path = \"/content/drive/MyDrive/Research - Thoracic Abnormalities/Models Evaluation/MobileNet/training/\"\n",
    "# Local Path\n",
    "model_name = \"MobileNet\"\n",
    "base_path = f\"../Models Evaluation/{model_name}/training/\"\n",
    "\n",
    "# Function to create a unique directory for each run\n",
    "def create_run_dir(base_path):\n",
    "    timestamp = datetime.now().strftime(\"%Y%m%d_%H%M%S\")\n",
    "    run_path = os.path.join(base_path, f\"run_{timestamp}\")\n",
    "    os.makedirs(run_path, exist_ok=True)\n",
    "    return run_path\n",
    "\n",
    "# Function to dynamically extract hyperparameters/other info from the model\n",
    "def get_model_hyperparameters(model, batch_size, epochs, train_images_arr, val_images_arr, train_labels):\n",
    "    test_size = len(pd.read_excel(EXCEL_FILENAME, sheet_name='test'))\n",
    "    all_images_count = len(train_images_arr) + len(val_images_arr) + test_size\n",
    "    return {\n",
    "        \"model_name\": model_name,\n",
    "        \"images_count\": all_images_count,\n",
    "        \"image_size\": train_images_arr[0].shape if isinstance(train_images_arr, np.ndarray) else \"N/A\",\n",
    "        \"num_labels\": len(train_labels.iloc[0]),\n",
    "        \"epochs\": epochs,\n",
    "        \"optimizer\": model.optimizer.get_config()[\"name\"],  # Extract optimizer name\n",
    "        \"learning_rate\": model.optimizer.learning_rate.numpy() if hasattr(model.optimizer, \"learning_rate\") else \"N/A\",  # Get learning rate\n",
    "        \"loss\": model.loss if hasattr(model, \"loss\") else \"N/A\",  # Extract loss function\n",
    "        \"batch_size\": batch_size,\n",
    "    }\n",
    "\n",
    "# Create a unique directory for the current program run\n",
    "run_path = create_run_dir(base_path)\n",
    "\n",
    "for k in range(1, n_k_fold + 1):\n",
    "    print(\"##################### FOLD - {} #####################\".format(k))\n",
    "\n",
    "    # Create a directory for the current fold within the run directory\n",
    "    fold_path = os.path.join(run_path, f\"fold_{k}\")\n",
    "    os.makedirs(fold_path, exist_ok=True)\n",
    "    \n",
    "    # CALLBACK\n",
    "    # CSV Logger Callback\n",
    "    csv_logger_filename = base_path + 'csv_loggers/csv_logger_fold_{}.csv'.format(k)\n",
    "    csv_logger_callback = CSVLogger(csv_logger_filename)\n",
    "\n",
    "    # Sheet Name\n",
    "    train_sheet_name_per_fold = \"fold_{}_train\".format(k)\n",
    "    val_sheet_name_per_fold = \"fold_{}_val\".format(k)\n",
    "    # Get Array Images and Masks\n",
    "    train_images_arr, train_labels = getArrFromExcel(train_sheet_name_per_fold)\n",
    "    val_images_arr, val_labels = getArrFromExcel(val_sheet_name_per_fold)\n",
    "\n",
    "    # Build Model\n",
    "    model = buildModelMobileNet()\n",
    "    \n",
    "    # Dynamically extract hyperparameters\n",
    "    batch_size = 8\n",
    "    epochs = 50\n",
    "    hyperparams = get_model_hyperparameters(model, batch_size, epochs, train_images_arr, val_images_arr, train_labels)\n",
    "\n",
    "    # Model Training\n",
    "    history = model.fit(train_images_arr,\n",
    "                        train_labels,\n",
    "                        validation_data=(val_images_arr, val_labels),\n",
    "                        batch_size=batch_size,\n",
    "                        epochs=epochs,\n",
    "                        callbacks=csv_logger_callback)\n",
    "    \n",
    "\n",
    "    # Append training history summary to the .csv log file\n",
    "    csv_logger_filename_summary = os.path.join(fold_path, f'summary_log_fold_{k}.csv')\n",
    "    # Extract the last epoch's metrics\n",
    "    last_epoch_metrics = {metric: values[-1] for metric, values in history.history.items()}\n",
    "    # Convert the metrics dictionary to a DataFrame\n",
    "    last_epoch_df = pd.DataFrame([last_epoch_metrics])\n",
    "    # Add fold-specific hyperparameters to the DataFrame for context\n",
    "    hyperparams_df = pd.DataFrame([hyperparams])\n",
    "    # Combine metrics and hyperparameters into one DataFrame\n",
    "    summary_df = pd.concat([last_epoch_df, hyperparams_df], axis=1)\n",
    "    # Save to CSV\n",
    "    summary_df.to_csv(csv_logger_filename_summary, index=False)\n",
    "\n",
    "    # Read CSV Logger After Training\n",
    "    csv_logger_df = pd.read_csv(csv_logger_filename)\n",
    "    csv_logger_df.to_csv(csv_logger_filename)\n",
    "    \n",
    "    # Write hyperparameters and other details to a .txt log file\n",
    "    # with open(txt_logger_filename, 'w') as txt_logger:\n",
    "\n",
    "    # Model Per Fold Documentation\n",
    "    model.save(base_path + \"model_per_fold/model_fold_{}.h5\".format(k))"
   ]
  },
  {
   "cell_type": "markdown",
   "metadata": {
    "id": "4k1bIY1Fdgcg"
   },
   "source": [
    "<!-- # ---ShuffleNet Training--- -->"
   ]
  },
  {
   "cell_type": "code",
   "execution_count": null,
   "metadata": {
    "id": "1XGYcFIEdlQS"
   },
   "outputs": [],
   "source": [
    "# model = buildModelShuffleNet()\n",
    "# model.summary()"
   ]
  },
  {
   "cell_type": "code",
   "execution_count": null,
   "metadata": {
    "id": "MTvSMzIAdlQT"
   },
   "outputs": [],
   "source": [
    "n_sheets_excel = len(pd.ExcelFile(EXCEL_FILENAME).sheet_names)\n",
    "n_k_fold = int((n_sheets_excel - 1) / 2)\n",
    "\n",
    "# Drive Path\n",
    "# base_path = \"/content/drive/MyDrive/Research - Thoracic Abnormalities/Models Evaluation/Xception/training/\"\n",
    "# Local Path\n",
    "model_name = \"Xception\"\n",
    "base_path = f\"../Models Evaluation/{model_name}/training/\"\n",
    "\n",
    "# Function to create a unique directory for each run\n",
    "def create_run_dir(base_path):\n",
    "    timestamp = datetime.now().strftime(\"%Y%m%d_%H%M%S\")\n",
    "    run_path = os.path.join(base_path, f\"run_{timestamp}\")\n",
    "    os.makedirs(run_path, exist_ok=True)\n",
    "    return run_path\n",
    "\n",
    "# Function to dynamically extract hyperparameters/other info from the model\n",
    "def get_model_hyperparameters(model, batch_size, epochs, train_images_arr, val_images_arr, train_labels):\n",
    "    test_size = len(pd.read_excel(EXCEL_FILENAME, sheet_name='test'))\n",
    "    all_images_count = len(train_images_arr) + len(val_images_arr) + test_size\n",
    "    return {\n",
    "        \"model_name\": model_name,\n",
    "        \"images_count\": all_images_count,\n",
    "        \"image_size\": train_images_arr[0].shape if isinstance(train_images_arr, np.ndarray) else \"N/A\",\n",
    "        \"num_labels\": len(train_labels.iloc[0]),\n",
    "        \"epochs\": epochs,\n",
    "        \"optimizer\": model.optimizer.get_config()[\"name\"],  # Extract optimizer name\n",
    "        \"learning_rate\": model.optimizer.learning_rate.numpy() if hasattr(model.optimizer, \"learning_rate\") else \"N/A\",  # Get learning rate\n",
    "        \"loss\": model.loss if hasattr(model, \"loss\") else \"N/A\",  # Extract loss function\n",
    "        \"batch_size\": batch_size,\n",
    "    }\n",
    "\n",
    "# Create a unique directory for the current program run\n",
    "run_path = create_run_dir(base_path)\n",
    "\n",
    "for k in range(1, n_k_fold + 1):\n",
    "    print(\"##################### FOLD - {} #####################\".format(k))\n",
    "\n",
    "    # Create a directory for the current fold within the run directory\n",
    "    fold_path = os.path.join(run_path, f\"fold_{k}\")\n",
    "    os.makedirs(fold_path, exist_ok=True)\n",
    "    \n",
    "    # CALLBACK\n",
    "    # CSV Logger Callback\n",
    "    csv_logger_filename = base_path + 'csv_loggers/csv_logger_fold_{}.csv'.format(k)\n",
    "    csv_logger_callback = CSVLogger(csv_logger_filename)\n",
    "\n",
    "    # Sheet Name\n",
    "    train_sheet_name_per_fold = \"fold_{}_train\".format(k)\n",
    "    val_sheet_name_per_fold = \"fold_{}_val\".format(k)\n",
    "    # Get Array Images and Masks\n",
    "    train_images_arr, train_labels = getArrFromExcel(train_sheet_name_per_fold)\n",
    "    val_images_arr, val_labels = getArrFromExcel(val_sheet_name_per_fold)\n",
    "\n",
    "    # Build Model\n",
    "    model = buildModelXception()\n",
    "    \n",
    "    # Dynamically extract hyperparameters\n",
    "    batch_size = 8\n",
    "    epochs = 50\n",
    "    hyperparams = get_model_hyperparameters(model, batch_size, epochs, train_images_arr, val_images_arr, train_labels)\n",
    "\n",
    "    # Model Training\n",
    "    history = model.fit(train_images_arr,\n",
    "                        train_labels,\n",
    "                        validation_data=(val_images_arr, val_labels),\n",
    "                        batch_size=batch_size,\n",
    "                        epochs=epochs,\n",
    "                        callbacks=csv_logger_callback)\n",
    "    \n",
    "\n",
    "    # Append training history summary to the .csv log file\n",
    "    csv_logger_filename_summary = os.path.join(fold_path, f'summary_log_fold_{k}.csv')\n",
    "    # Extract the last epoch's metrics\n",
    "    last_epoch_metrics = {metric: values[-1] for metric, values in history.history.items()}\n",
    "    # Convert the metrics dictionary to a DataFrame\n",
    "    last_epoch_df = pd.DataFrame([last_epoch_metrics])\n",
    "    # Add fold-specific hyperparameters to the DataFrame for context\n",
    "    hyperparams_df = pd.DataFrame([hyperparams])\n",
    "    # Combine metrics and hyperparameters into one DataFrame\n",
    "    summary_df = pd.concat([last_epoch_df, hyperparams_df], axis=1)\n",
    "    # Save to CSV\n",
    "    summary_df.to_csv(csv_logger_filename_summary, index=False)\n",
    "\n",
    "    # Read CSV Logger After Training\n",
    "    csv_logger_df = pd.read_csv(csv_logger_filename)\n",
    "    csv_logger_df.to_csv(csv_logger_filename)\n",
    "    \n",
    "    # Write hyperparameters and other details to a .txt log file\n",
    "    # with open(txt_logger_filename, 'w') as txt_logger:\n",
    "\n",
    "    # Model Per Fold Documentation\n",
    "    model.save(base_path + \"model_per_fold/model_fold_{}.h5\".format(k))"
   ]
  },
  {
   "cell_type": "markdown",
   "metadata": {
    "id": "XSDVFKPNHP2s"
   },
   "source": [
    "# ---EfficientNetB0 Training---"
   ]
  },
  {
   "cell_type": "code",
   "execution_count": null,
   "metadata": {
    "id": "vKdl4xMRHP25"
   },
   "outputs": [],
   "source": [
    "# model = buildModelEfficientNetB0()\n",
    "# model.summary()"
   ]
  },
  {
   "cell_type": "code",
   "execution_count": null,
   "metadata": {
    "id": "EPXNBQ-aHP25"
   },
   "outputs": [],
   "source": [
    "# n_sheets_excel = len(pd.ExcelFile(EXCEL_FILENAME).sheet_names)\n",
    "# n_k_fold = int((n_sheets_excel - 1) / 2)\n",
    "\n",
    "# # Drive Path\n",
    "# drive_path = \"/content/drive/MyDrive/Research - Thoracic Abnormalities/Models Evaluation/EfficientNetB0/training/\"\n",
    "\n",
    "# for k in range(1, n_k_fold + 1):\n",
    "#     print(\"##################### FOLD - {} #####################\".format(k))\n",
    "\n",
    "#     # CALLBACK\n",
    "#     # CSV Logger Callback\n",
    "#     csv_logger_filename = drive_path + 'csv_loggers/csv_logger_fold_{}.csv'.format(k)\n",
    "#     csv_logger_callback = CSVLogger(csv_logger_filename)\n",
    "\n",
    "#     # Sheet Name\n",
    "#     train_sheet_name_per_fold = \"fold_{}_train\".format(k)\n",
    "#     val_sheet_name_per_fold = \"fold_{}_val\".format(k)\n",
    "#     # Get Array Images and Masks\n",
    "#     train_images_arr, train_labels = getArrFromExcel(train_sheet_name_per_fold)\n",
    "#     val_images_arr, val_labels = getArrFromExcel(val_sheet_name_per_fold)\n",
    "\n",
    "#     # Build Model\n",
    "#     model = buildModelEfficientNetB0()\n",
    "\n",
    "#     # Model Training\n",
    "#     history = model.fit(train_images_arr,\n",
    "#                         train_labels,\n",
    "#                         validation_data=(val_images_arr, val_labels),\n",
    "#                         batch_size=32,\n",
    "#                         epochs=100,\n",
    "#                         callbacks=csv_logger_callback)\n",
    "#     # Read CSV Logger After Training\n",
    "#     csv_logger_df = pd.read_csv(csv_logger_filename)\n",
    "#     csv_logger_df.to_csv(csv_logger_filename)\n",
    "\n",
    "#     # Model Per Fold Documentation\n",
    "#     model.save(drive_path + \"model_per_fold/model_fold_{}.h5\".format(k))"
   ]
  }
 ],
 "metadata": {
  "accelerator": "GPU",
  "colab": {
   "gpuType": "T4",
   "provenance": []
  },
  "kernelspec": {
   "display_name": "tf217",
   "language": "python",
   "name": "python3"
  },
  "language_info": {
   "codemirror_mode": {
    "name": "ipython",
    "version": 3
   },
   "file_extension": ".py",
   "mimetype": "text/x-python",
   "name": "python",
   "nbconvert_exporter": "python",
   "pygments_lexer": "ipython3",
   "version": "3.12.3"
  }
 },
 "nbformat": 4,
 "nbformat_minor": 0
}
