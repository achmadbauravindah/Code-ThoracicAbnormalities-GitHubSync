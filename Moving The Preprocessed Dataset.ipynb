{
 "cells": [
  {
   "cell_type": "code",
   "execution_count": null,
   "metadata": {},
   "outputs": [],
   "source": [
    "import os\n",
    "import shutil\n",
    "import pandas as pd\n",
    "\n",
    "# Define the path to the top-level directory\n",
    "source_directory = 'NIH Original Dataset'  # Replace with the path to your directory\n",
    "target_directory = 'NIH Filtered Dataset (1000 images per label)'  # Replace with the desired path for the new directory\n",
    "\n",
    "# List of filenames you're interested in\n",
    "filenames_df = pd.read_csv('image_index_selected_labels (1000_per_label).csv')\n",
    "filenames_to_copy = filenames_df['Image Index'].tolist()\n",
    "\n",
    "# Ensure the target directory exists\n",
    "os.makedirs(target_directory, exist_ok=True)\n",
    "\n",
    "# Walk through each subdirectory and look for files to copy\n",
    "for root, dirs, files in os.walk(source_directory):\n",
    "    for file in files:\n",
    "        # Check if the current file matches one of the filenames we want\n",
    "        if file in filenames_to_copy:\n",
    "            # Construct the full file path\n",
    "            file_path = os.path.join(root, file)\n",
    "            # Copy the file to the target directory\n",
    "            shutil.copy(file_path, target_directory)\n",
    "            print(f\"Copied: {file_path} to {target_directory}\")\n",
    "\n",
    "print(\"File copying complete.\")"
   ]
  }
 ],
 "metadata": {
  "kernelspec": {
   "display_name": "work",
   "language": "python",
   "name": "python3"
  },
  "language_info": {
   "name": "python",
   "version": "3.11.7"
  }
 },
 "nbformat": 4,
 "nbformat_minor": 2
}
