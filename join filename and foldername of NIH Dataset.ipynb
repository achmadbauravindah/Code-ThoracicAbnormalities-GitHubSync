{
 "cells": [
  {
   "cell_type": "code",
   "execution_count": 9,
   "metadata": {},
   "outputs": [
    {
     "name": "stdout",
     "output_type": "stream",
     "text": [
      "/Volumes/T7 Shield/my-researches/datasets.thoracic-abnormalities/nih_chest_xray/images_001/images/00000001_000.png\n",
      "/Volumes/T7 Shield/my-researches/datasets.thoracic-abnormalities/nih_chest_xray/images_001/images/00000001_001.png\n",
      "/Volumes/T7 Shield/my-researches/datasets.thoracic-abnormalities/nih_chest_xray/images_001/images/00000001_002.png\n",
      "/Volumes/T7 Shield/my-researches/datasets.thoracic-abnormalities/nih_chest_xray/images_001/images/00000002_000.png\n",
      "/Volumes/T7 Shield/my-researches/datasets.thoracic-abnormalities/nih_chest_xray/images_001/images/00000003_000.png\n",
      "/Volumes/T7 Shield/my-researches/datasets.thoracic-abnormalities/nih_chest_xray/images_003/images/00003933_000.png\n",
      "/Volumes/T7 Shield/my-researches/datasets.thoracic-abnormalities/nih_chest_xray/images_012/images/00028186_000.png\n"
     ]
    }
   ],
   "source": [
    "import os\n",
    "\n",
    "# Root directory where all subfolders are located\n",
    "root_dir = \"/Volumes/T7 Shield/my-researches/datasets.thoracic-abnormalities/nih_chest_xray\"\n",
    "\n",
    "# List of filenames to find\n",
    "filenames = {\n",
    "    \"00000001_000.png\",\n",
    "    \"00000001_001.png\",\n",
    "    \"00000001_002.png\",\n",
    "    \"00000002_000.png\",\n",
    "    \"00000003_000.png\",\n",
    "    \"00003933_000.png\",\n",
    "    \"00028186_000.png\"\n",
    "}\n",
    "\n",
    "# Store full paths\n",
    "found_files = []\n",
    "\n",
    "# Recursively search for files in all subdirectories\n",
    "for root, _, files in os.walk(root_dir):\n",
    "    for file in files:\n",
    "        if file in filenames:\n",
    "            full_path = os.path.join(root, file)\n",
    "            found_files.append(full_path)\n",
    "\n",
    "# Print results\n",
    "for file in found_files:\n",
    "    print(file)\n"
   ]
  },
  {
   "cell_type": "code",
   "execution_count": null,
   "metadata": {},
   "outputs": [],
   "source": []
  }
 ],
 "metadata": {
  "kernelspec": {
   "display_name": "work",
   "language": "python",
   "name": "python3"
  },
  "language_info": {
   "codemirror_mode": {
    "name": "ipython",
    "version": 3
   },
   "file_extension": ".py",
   "mimetype": "text/x-python",
   "name": "python",
   "nbconvert_exporter": "python",
   "pygments_lexer": "ipython3",
   "version": "3.11.7"
  }
 },
 "nbformat": 4,
 "nbformat_minor": 2
}
